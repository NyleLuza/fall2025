{
 "cells": [
  {
   "cell_type": "markdown",
   "id": "cb35928b",
   "metadata": {},
   "source": [
    "Problem 1: Knowledge Q & A (40%)\n",
    "\n",
    "• Answering the following questions about the data transformation and dimension reduc-\n",
    "tion.\n",
    "• Avoid using any Python libraries to solve these questions unless their use is explicitly\n",
    "required.\n",
    "\n",
    "(1) Normalize the following group of data by using min-max normalization [-1, 1]:\n",
    "200, 300, 400, 600, 1000\n",
    "\n",
    "- new_data = -1, -0.75, -0.5, 0, 1\n",
    "\n"
   ]
  },
  {
   "cell_type": "markdown",
   "id": "8cf85883",
   "metadata": {},
   "source": [
    "(2) Verify your results using Python. You can either apply the equation manually or use\n",
    "the MinMaxScaler from scikit-learn. Note that you need to reshape the array to two\n",
    "dimensions to use this transformation: reshape((-1, 1)).\n",
    "\n"
   ]
  },
  {
   "cell_type": "code",
   "execution_count": 5,
   "id": "9cf61417",
   "metadata": {},
   "outputs": [
    {
     "name": "stdout",
     "output_type": "stream",
     "text": [
      "before:  [200, 300, 400, 600, 1000] \n",
      "after:  [-1.0, -0.75, -0.5, 0.0, 1.0]\n"
     ]
    }
   ],
   "source": [
    "data = [200, 300, 400, 600, 1000]\n",
    "def minmaxscaler(data, new_min, new_max):\n",
    "    min_a = min(data)\n",
    "    max_a = max(data)\n",
    "    # equation -> ((x-min_a)/max_a - min_a)*(new_max_a - new_min_a) + new_min_a\n",
    "    formula = [((x-min_a)/(max_a - min_a))*(new_max - new_min) + new_min for x in data]\n",
    "    print(\"before: \", data, \"\\nafter: \", formula)\n",
    "minmaxscaler(data, -1, 1)"
   ]
  },
  {
   "cell_type": "markdown",
   "id": "8ff6e8d3",
   "metadata": {},
   "source": [
    "# (3) Suppose a group of sales price records has been sorted as follows:\n",
    "# 5, 10, 11, 13, 15, 35, 50, 55, 72, 92, 204, 225\n",
    "\n",
    "Partition them into three bins by each of the following methods:\n",
    "\n",
    "(a) Equal-fequency (equal depth) partitioning\n",
    "\n",
    "- size of bins need to be equal\n",
    "- of elements in each bin -> 4\n",
    "\n",
    "    - [5, 10, 11, 13] | [15, 35, 50, 55] | [72, 92, 204, 225]\n",
    "\n",
    "    - apply mean to bins\n",
    "\n",
    "    - [9.75, 9.75, 9.75, 9.75] | [38.75, 38.75, 38.75, 38.75] | [148.25, 148.25, 148.25, 148.25]\n",
    "\n",
    "\n",
    "(b) Equal-width partitioning\n",
    "\n",
    "- elements in the bins need to fit a certain range\n",
    "- set a range (max - min)\n",
    "- set bin width range / number of bins\n",
    "- Range = 220 | bin width = 220/3 = apprx. 73\n",
    "\n",
    "    - [5, 10, 11, 13, 15, 35, 50, 55, 72] | [92] | [204, 225]\n",
    "\n",
    "    - apply mean to bins\n",
    "\n",
    "    - [29.55, 29.55, 29.55, 29.55, 29.55, 29.55, 29.55, 29.55, 29.55] | [92] | [214.5, 214.5]\n",
    "\n",
    "\n",
    "\n",
    "Use python dictionary to present your answer, i.e.:\n",
    "{range1: [list of numbers fall in range1],\n",
    "range2: [list of numbers fall in range2],\n",
    "...}\n"
   ]
  },
  {
   "cell_type": "code",
   "execution_count": 29,
   "id": "9fd2dbce",
   "metadata": {},
   "outputs": [
    {
     "name": "stdout",
     "output_type": "stream",
     "text": [
      "{'bin1': [5, 10, 11, 13, 15, 35, 50, 55, 72], 'bin2': [92], 'bin3': [204, 255]}\n"
     ]
    }
   ],
   "source": [
    "data = [5, 10, 11, 13, 15, 35, 50, 55, 72, 92, 204, 255]\n",
    "range = max(data) - min(data)\n",
    "num_bins = 3\n",
    "bin_width = range/num_bins\n",
    "dict = {'bin1': [x for x in data if x >= min(data) and x <= min(data) + bin_width]}\n",
    "dict['bin2'] =  [x for x in data if x > max(dict['bin1']) and x <= max(dict['bin1']) + bin_width]\n",
    "dict['bin3'] =  [x for x in data if x > max(dict['bin2'])and x >= max(dict['bin2']) + bin_width]\n",
    "print(dict)\n",
    "\n"
   ]
  },
  {
   "cell_type": "code",
   "execution_count": null,
   "id": "0b600856",
   "metadata": {},
   "outputs": [],
   "source": []
  }
 ],
 "metadata": {
  "kernelspec": {
   "display_name": "Python 3",
   "language": "python",
   "name": "python3"
  },
  "language_info": {
   "codemirror_mode": {
    "name": "ipython",
    "version": 3
   },
   "file_extension": ".py",
   "mimetype": "text/x-python",
   "name": "python",
   "nbconvert_exporter": "python",
   "pygments_lexer": "ipython3",
   "version": "3.12.3"
  }
 },
 "nbformat": 4,
 "nbformat_minor": 5
}
